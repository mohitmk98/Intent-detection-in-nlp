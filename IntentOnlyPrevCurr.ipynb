{
 "cells": [
  {
   "cell_type": "code",
   "execution_count": null,
   "metadata": {
    "colab": {},
    "colab_type": "code",
    "id": "60wAgj32USOa"
   },
   "outputs": [],
   "source": [
    "import pandas as pd \n",
    "import numpy as np\n",
    "\n",
    "from keras.preprocessing.text import Tokenizer\n",
    "from keras.preprocessing.sequence import pad_sequences\n",
    "from keras.layers import Bidirectional, CuDNNLSTM, Dense, Embedding, Dropout, Input, CuDNNGRU, GRU, LSTM\n",
    "from keras.layers import Conv1D, GlobalMaxPooling1D, MaxPooling1D, GlobalAveragePooling1D, concatenate,AveragePooling1D\n",
    "from keras.models import Model\n",
    "from keras.callbacks import ModelCheckpoint,ReduceLROnPlateau\n",
    "\n",
    "from gensim.models import Word2Vec\n",
    "\n",
    "from sklearn.metrics import confusion_matrix, f1_score \n",
    "from sklearn.model_selection import train_test_split\n",
    "\n",
    "import pickle\n",
    "import re\n",
    "import string"
   ]
  },
  {
   "cell_type": "code",
   "execution_count": null,
   "metadata": {
    "colab": {
     "base_uri": "https://localhost:8080/",
     "height": 364
    },
    "colab_type": "code",
    "id": "KnUr2XrVUc-G",
    "outputId": "27c80f7d-4b34-4bb1-dfd4-56942902d6df"
   },
   "outputs": [],
   "source": [
    "!wget http://nlp.stanford.edu/data/glove.840B.300d.zip"
   ]
  },
  {
   "cell_type": "code",
   "execution_count": null,
   "metadata": {
    "colab": {
     "base_uri": "https://localhost:8080/",
     "height": 52
    },
    "colab_type": "code",
    "id": "-Iqs0rVGUjDk",
    "outputId": "d484c32b-c2ac-43ba-a9fd-43c4e2cb10b1"
   },
   "outputs": [],
   "source": [
    "!unzip glove.840B.300d.zip"
   ]
  },
  {
   "cell_type": "code",
   "execution_count": null,
   "metadata": {
    "colab": {
     "base_uri": "https://localhost:8080/",
     "height": 382
    },
    "colab_type": "code",
    "id": "a8IFsbWbUk2T",
    "outputId": "f5848cc7-706b-44f4-965a-f71cb1e9cdb5"
   },
   "outputs": [],
   "source": [
    "embeddings_index = dict()\n",
    "with open('glove.840B.300d.txt') as glove:\n",
    "  for line in glove:\n",
    "    values = line.split()\n",
    "    word = values[0]\n",
    "    try:\n",
    "      coefs = np.asarray(values[1:], dtype='float32')\n",
    "      embeddings_index[word] = coefs\n",
    "    except:\n",
    "      print(word)\n",
    "   \n",
    "print('Found %s word vectors.' % len(embeddings_index))"
   ]
  },
  {
   "cell_type": "code",
   "execution_count": null,
   "metadata": {
    "colab": {},
    "colab_type": "code",
    "id": "i62J57qEVFis"
   },
   "outputs": [],
   "source": [
    "data = pd.read_csv('schedule_flight.csv')"
   ]
  },
  {
   "cell_type": "code",
   "execution_count": null,
   "metadata": {
    "colab": {},
    "colab_type": "code",
    "id": "peffmVeqVJLb"
   },
   "outputs": [],
   "source": [
    "data = data.sample(frac=1).reset_index(drop=True)"
   ]
  },
  {
   "cell_type": "code",
   "execution_count": null,
   "metadata": {
    "colab": {
     "base_uri": "https://localhost:8080/",
     "height": 206
    },
    "colab_type": "code",
    "id": "cmdg0GiyVLAG",
    "outputId": "31de03b9-7000-4454-a917-a9e33092ba76"
   },
   "outputs": [],
   "source": [
    "data.head()"
   ]
  },
  {
   "cell_type": "code",
   "execution_count": null,
   "metadata": {
    "colab": {},
    "colab_type": "code",
    "id": "-OZYSweuVTB0"
   },
   "outputs": [],
   "source": [
    "dumPREV = pd.get_dummies(data[\"previous_intent\"])\n",
    "dumPREV = dumPREV.drop(columns = ['no'] , axis = 1)"
   ]
  },
  {
   "cell_type": "code",
   "execution_count": null,
   "metadata": {
    "colab": {
     "base_uri": "https://localhost:8080/",
     "height": 206
    },
    "colab_type": "code",
    "id": "gK3yPW_kWcCf",
    "outputId": "df39a362-f33f-40ef-e343-ccb2189c7858"
   },
   "outputs": [],
   "source": [
    "dumPREV.head()"
   ]
  },
  {
   "cell_type": "code",
   "execution_count": null,
   "metadata": {
    "colab": {},
    "colab_type": "code",
    "id": "Wi-uD1xGVVMO"
   },
   "outputs": [],
   "source": [
    "embed_size = 300 # how big is each word vector\n",
    "\n",
    "maxlen = 30 # max number of words in a question to use"
   ]
  },
  {
   "cell_type": "code",
   "execution_count": null,
   "metadata": {
    "colab": {},
    "colab_type": "code",
    "id": "gkHEo2RyVXWm"
   },
   "outputs": [],
   "source": [
    "queries = data[\"query\"].values"
   ]
  },
  {
   "cell_type": "code",
   "execution_count": null,
   "metadata": {
    "colab": {},
    "colab_type": "code",
    "id": "vIgyc45hVZqR"
   },
   "outputs": [],
   "source": [
    "tokenizer = Tokenizer()\n",
    "tokenizer.fit_on_texts(queries)\n",
    "queries = tokenizer.texts_to_sequences(queries)\n",
    "queries = pad_sequences(queries, maxlen)"
   ]
  },
  {
   "cell_type": "code",
   "execution_count": null,
   "metadata": {
    "colab": {},
    "colab_type": "code",
    "id": "FLln3XkoVfPY"
   },
   "outputs": [],
   "source": [
    "df = pd.DataFrame(queries)"
   ]
  },
  {
   "cell_type": "code",
   "execution_count": null,
   "metadata": {
    "colab": {},
    "colab_type": "code",
    "id": "mzCvjaL4VhRt"
   },
   "outputs": [],
   "source": [
    "dataset = dumPREV.join(df, how='outer')"
   ]
  },
  {
   "cell_type": "code",
   "execution_count": null,
   "metadata": {
    "colab": {
     "base_uri": "https://localhost:8080/",
     "height": 206
    },
    "colab_type": "code",
    "id": "U1yfw8LAWwHb",
    "outputId": "0505a020-ce3c-4d6e-fb95-462965eced5b"
   },
   "outputs": [],
   "source": [
    "dataset.head()"
   ]
  },
  {
   "cell_type": "code",
   "execution_count": null,
   "metadata": {
    "colab": {
     "base_uri": "https://localhost:8080/",
     "height": 17418
    },
    "colab_type": "code",
    "id": "tpa6vD7RVly0",
    "outputId": "7cbcabfe-4921-422c-a296-9f1c0d67041e"
   },
   "outputs": [],
   "source": [
    "word_index = tokenizer.word_index\n",
    "nb_words = len(word_index)\n",
    "print(nb_words)\n",
    "word_index"
   ]
  },
  {
   "cell_type": "code",
   "execution_count": null,
   "metadata": {
    "colab": {},
    "colab_type": "code",
    "id": "WnkLQVPbVoMF"
   },
   "outputs": [],
   "source": [
    "dumCURR = pd.get_dummies(data[\"current_intent\"])"
   ]
  },
  {
   "cell_type": "code",
   "execution_count": null,
   "metadata": {
    "colab": {
     "base_uri": "https://localhost:8080/",
     "height": 206
    },
    "colab_type": "code",
    "id": "o02S6kTyXSkh",
    "outputId": "6e3fd8ec-e9bf-465a-dd99-ac7b3f6eda72"
   },
   "outputs": [],
   "source": [
    "dumCURR.head()"
   ]
  },
  {
   "cell_type": "code",
   "execution_count": null,
   "metadata": {
    "colab": {
     "base_uri": "https://localhost:8080/",
     "height": 52
    },
    "colab_type": "code",
    "id": "tM7P_z4cVqO-",
    "outputId": "2f0f138d-4cfa-44d6-a702-32259dd163e6"
   },
   "outputs": [],
   "source": [
    "x = dataset.iloc[:, :].values\n",
    "y = dumCURR.iloc[:, :].values\n",
    "print(\"Shape X \", x.shape)\n",
    "print(\"Shape Y \", y.shape)"
   ]
  },
  {
   "cell_type": "code",
   "execution_count": null,
   "metadata": {
    "colab": {},
    "colab_type": "code",
    "id": "M_lRhwvtVuVo"
   },
   "outputs": [],
   "source": [
    "train_x, test_x, train_y, test_y = train_test_split(x, y, test_size = 0.05, random_state = 10)"
   ]
  },
  {
   "cell_type": "code",
   "execution_count": null,
   "metadata": {
    "colab": {
     "base_uri": "https://localhost:8080/",
     "height": 52
    },
    "colab_type": "code",
    "id": "_8GhqfXUVwFt",
    "outputId": "40b25cd4-e89d-4e93-9b61-a4d98f970882"
   },
   "outputs": [],
   "source": [
    "print(\"Shape of X, Y train\", train_x.shape, train_y.shape)\n",
    "print(\"Shape of X, Y test\", test_x.shape, test_y.shape)"
   ]
  },
  {
   "cell_type": "code",
   "execution_count": null,
   "metadata": {
    "colab": {},
    "colab_type": "code",
    "id": "yKoKKILgVydE"
   },
   "outputs": [],
   "source": [
    "nb_words = len(word_index)\n",
    "embedding_matrix = np.zeros((nb_words+1, 300))"
   ]
  },
  {
   "cell_type": "code",
   "execution_count": null,
   "metadata": {
    "colab": {},
    "colab_type": "code",
    "id": "gtwjYWRSV1iS"
   },
   "outputs": [],
   "source": [
    "for word, i in word_index.items(): \n",
    "    if word in embeddings_index.keys():  \n",
    "        embedding_vector = embeddings_index[word] \n",
    "        #print(embedding_vector.shape)\n",
    "        embedding_matrix[i] = embedding_vector"
   ]
  },
  {
   "cell_type": "code",
   "execution_count": null,
   "metadata": {
    "colab": {
     "base_uri": "https://localhost:8080/",
     "height": 451
    },
    "colab_type": "code",
    "id": "O-KFgsZJV3JC",
    "outputId": "83f668e5-700d-4153-ed8d-a8c5797e539f"
   },
   "outputs": [],
   "source": [
    "inp1 = Input(shape = (30,)) \n",
    "\n",
    "x = Embedding(nb_words+1, embed_size, weights = [embedding_matrix])(inp1)\n",
    "\n",
    "\n",
    "biout = Bidirectional(GRU(30, return_sequences=False))(x)\n",
    " \n",
    "\n",
    "inp2 = Input(shape = (4,))\n",
    "x = concatenate([biout, inp2])\n",
    "\n",
    "x = Dense(64, activation=\"relu\")(x)\n",
    "x = Dropout(0.2)(x)\n",
    "x = Dense(7, activation=\"softmax\")(x)\n",
    "model = Model(inputs=[inp1, inp2], outputs=x)\n",
    "\n",
    "model.compile(loss='categorical_crossentropy', optimizer='adadelta', metrics=['accuracy'])\n",
    "\n",
    "print(model.summary())"
   ]
  },
  {
   "cell_type": "code",
   "execution_count": null,
   "metadata": {
    "colab": {},
    "colab_type": "code",
    "id": "9kJDTTUtV6Ot"
   },
   "outputs": [],
   "source": [
    "checkpoint = ModelCheckpoint(\"weights.hdf5\", monitor='val_acc', verbose=0, save_best_only=True, mode='max')\n",
    "\n",
    "callbacks = [checkpoint]"
   ]
  },
  {
   "cell_type": "code",
   "execution_count": null,
   "metadata": {
    "colab": {
     "base_uri": "https://localhost:8080/",
     "height": 1684
    },
    "colab_type": "code",
    "id": "F-3-nWDmV-Dh",
    "outputId": "8cd122d8-24af-4308-c56d-78c2a3be5f8c"
   },
   "outputs": [],
   "source": [
    "epochs= 8 #select epochs\n",
    "\n",
    "y_test = [np.argmax(y) for y in test_y]\n",
    "\n",
    "for e in range(epochs):\n",
    "    model.fit([train_x[:, 4:], train_x[:, :4]], train_y, batch_size=128, epochs=1, callbacks = callbacks, validation_split=0.1) #fit model\n",
    "    pred_glove_val_y = model.predict([test_x[:, 4:], test_x[:, :4]], batch_size=128, verbose=1) #make predictions\n",
    "\n",
    "    y_pred = [np.argmax(y) for y in pred_glove_val_y]\n",
    "    \n",
    "    score = f1_score(y_test, y_pred, average = 'micro')\n",
    "    print(confusion_matrix(y_test, y_pred))\n",
    "            \n",
    "    print(\"Val F1 Score: {:.4f}\".format(score))"
   ]
  },
  {
   "cell_type": "code",
   "execution_count": null,
   "metadata": {
    "colab": {
     "base_uri": "https://localhost:8080/",
     "height": 521
    },
    "colab_type": "code",
    "id": "o1NTh9zvcNH8",
    "outputId": "a0cb4851-047f-44d9-f1a3-a117434ef7cc"
   },
   "outputs": [],
   "source": [
    "inp1 = Input(shape = (30,)) \n",
    "\n",
    "x = Embedding(nb_words+1, embed_size, weights = [embedding_matrix])(inp1)\n",
    "\n",
    "x = Conv1D(filters = 100, kernel_size = 3, strides=1)(x)\n",
    "x = AveragePooling1D()(x)\n",
    "biout = Bidirectional(GRU(30, return_sequences=False))(x)\n",
    "\n",
    "\n",
    "inp2 = Input(shape = (4,))\n",
    "x = concatenate([biout, inp2])\n",
    "\n",
    "x = Dense(32, activation=\"relu\")(x)\n",
    "x = Dropout(0.2)(x)\n",
    "x = Dense(7, activation=\"softmax\")(x)\n",
    "modelwithCONV = Model(inputs=[inp1, inp2], outputs=x)\n",
    "\n",
    "modelwithCONV.compile(loss='categorical_crossentropy', optimizer='adadelta', metrics=['accuracy'])\n",
    "\n",
    "print(modelwithCONV.summary())"
   ]
  },
  {
   "cell_type": "code",
   "execution_count": null,
   "metadata": {
    "colab": {},
    "colab_type": "code",
    "id": "9Bn2nJsac_1Q"
   },
   "outputs": [],
   "source": [
    "checkpoint = ModelCheckpoint(\"weightswithCONV.hdf5\", monitor='val_acc', verbose=0, save_best_only=True, mode='max')\n",
    "\n",
    "callbacks = [checkpoint]"
   ]
  },
  {
   "cell_type": "code",
   "execution_count": null,
   "metadata": {},
   "outputs": [],
   "source": [
    "import numpy as np"
   ]
  },
  {
   "cell_type": "code",
   "execution_count": null,
   "metadata": {},
   "outputs": [],
   "source": [
    "np.repeat(3,4)"
   ]
  },
  {
   "cell_type": "code",
   "execution_count": null,
   "metadata": {
    "colab": {
     "base_uri": "https://localhost:8080/",
     "height": 2101
    },
    "colab_type": "code",
    "id": "1xwgy2Z_c5Yn",
    "outputId": "f3598a21-5ba6-418d-e4e7-b603ab0cb7e1"
   },
   "outputs": [],
   "source": [
    "epochs= 10 #select epochs\n",
    "\n",
    "y_test = [np.argmax(y) for y in test_y]\n",
    "\n",
    "for e in range(epochs):\n",
    "    modelwithCONV.fit([train_x[:, 4:], train_x[:, :4]], train_y, batch_size=128, epochs=1, callbacks = callbacks, validation_split=0.1) #fit model\n",
    "    pred_glove_val_y = modelwithCONV.predict([test_x[:, 4:], test_x[:, :4]], batch_size=128, verbose=1) #make predictions\n",
    "\n",
    "    y_pred = [np.argmax(y) for y in pred_glove_val_y]\n",
    "    \n",
    "    score = f1_score(y_test, y_pred, average = 'micro')\n",
    "    print(confusion_matrix(y_test, y_pred))\n",
    "            \n",
    "    print(\"Val F1 Score: {:.4f}\".format(score))"
   ]
  },
  {
   "cell_type": "code",
   "execution_count": null,
   "metadata": {
    "colab": {},
    "colab_type": "code",
    "id": "GrXktITAWAix"
   },
   "outputs": [],
   "source": [
    "def transformMP(a):\n",
    "  one_hot=[0]*4\n",
    "  if a!=-1:\n",
    "    one_hot[a-1]=1\n",
    "  \n",
    "  return np.array([one_hot])\n",
    "\n",
    "def transformQ(query):\n",
    "  query = tokenizer.texts_to_sequences([query])\n",
    "  query = pad_sequences(query, maxlen)\n",
    "  return np.array(query)"
   ]
  },
  {
   "cell_type": "code",
   "execution_count": null,
   "metadata": {
    "colab": {
     "base_uri": "https://localhost:8080/",
     "height": 69
    },
    "colab_type": "code",
    "id": "bFhcPfdlZ_4e",
    "outputId": "04681bb3-e7c6-4d90-ea00-5ded0746c373"
   },
   "outputs": [],
   "source": [
    "transformQ(\"indore\")"
   ]
  },
  {
   "cell_type": "code",
   "execution_count": null,
   "metadata": {
    "colab": {
     "base_uri": "https://localhost:8080/",
     "height": 1530
    },
    "colab_type": "code",
    "id": "ittTKoCtWCf6",
    "outputId": "ce795004-7cbd-4a20-9815-94029e16a2f6"
   },
   "outputs": [],
   "source": [
    "intent = ['affirmation' ,\t'book' ,\t'cancel', \t'check-in', \t'greet' ,\t'negation' ,\t'status']\n",
    "\n",
    "while True:\n",
    "\n",
    "  print(\"book=1; cancel=2; check-in=3; status=4\\n\")\n",
    "  query = input(\"Enter Query \")\n",
    "  \n",
    "  try:\n",
    "    a = int(input(\"Enter previous intent \"))\n",
    "  except:\n",
    "    a = -1\n",
    "    \n",
    "  oh=transformMP(a)\n",
    "  q = transformQ(query)\n",
    "  \n",
    "  pred_glove_val_y = modelwithCONV.predict([q, oh]) \n",
    "\n",
    "  y_pred = np.argmax(pred_glove_val_y[0])\n",
    "  print(intent[y_pred],  pred_glove_val_y[0][y_pred], \"\\n\\n\")"
   ]
  },
  {
   "cell_type": "markdown",
   "metadata": {
    "colab": {},
    "colab_type": "code",
    "id": "dl2qX407Zk7l"
   },
   "source": []
  }
 ],
 "metadata": {
  "accelerator": "GPU",
  "colab": {
   "name": "IntentOnlyPrevCurr.ipynb",
   "provenance": [],
   "version": "0.3.2"
  },
  "kernelspec": {
   "display_name": "Python 3",
   "language": "python",
   "name": "python3"
  },
  "language_info": {
   "codemirror_mode": {
    "name": "ipython",
    "version": 3
   },
   "file_extension": ".py",
   "mimetype": "text/x-python",
   "name": "python",
   "nbconvert_exporter": "python",
   "pygments_lexer": "ipython3",
   "version": "3.6.8"
  }
 },
 "nbformat": 4,
 "nbformat_minor": 1
}
